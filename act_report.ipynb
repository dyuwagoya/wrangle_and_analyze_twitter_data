{
 "cells": [
  {
   "cell_type": "markdown",
   "metadata": {},
   "source": [
    "## Report: act_report"
   ]
  },
  {
   "cell_type": "markdown",
   "metadata": {},
   "source": [
    "The goal of this research is to understand what influences the rating given to the dogs in this sample of Twitter user @dog_rates, also known as WeRateDogs that has over 9.2 million followers and I divided this analysis in three parts."
   ]
  },
  {
   "cell_type": "markdown",
   "metadata": {},
   "source": [
    "### First:\n",
    "\n",
    "I needed the top 20 dog's breed by rating and make a visual comparison with top 20 by number of tweets, by favorite count and retweet count.\n",
    "To do this I've plotted a bar chart for each mean values of the variables rating,  number of tweets, favorite count and retweet count. The first by rating didn't appeared in the top 20 by number of tweets, in the top 20 by favorite count it appeared in the 18st place and in the top 20 by retweet count it appeard 10st place.\n",
    "It seems that there is no realationship between this variable, to go further I will do a linear regression with this variables one by one in the next step."
   ]
  },
  {
   "cell_type": "markdown",
   "metadata": {},
   "source": [
    "### Second:\n",
    "\n",
    "I made a linear regression to evaluate the correlation between the variables:\n",
    "\n",
    "rating x retweet count: the t-test was too high that this linear regression is not valid.\n",
    "\n",
    "rating x favorite count: the t-test was too high that this linear regression is not valid.\n",
    "\n",
    "favorite_count and retweet_count: the R-squared is 0.838, it means that 83,8 % of favorite count is explained by the retweet count, the slope is 2.77 and the intercept is 2103, it means that if the retweet_count was zero, the favorite count would be  2103 and for each retweet count, the favorite count will increase by 2.77.\n",
    "\n",
    "I didn't find any correlation with rating, so I will do a multiple linear regression with some qualitative variables and other variables."
   ]
  },
  {
   "cell_type": "markdown",
   "metadata": {},
   "source": [
    "### Third:\n",
    "\n",
    "I wanted to check what variables influence the rating. So I did a multiple linear regression, all the regressions I made wasn't valid beacause the t-test was too high."
   ]
  },
  {
   "cell_type": "markdown",
   "metadata": {},
   "source": [
    "#### Conclusion:\n",
    "    \n",
    "The rating gave to the dogs wasn't correlated with any variable, so it seems that was giaven randomly."
   ]
  }
 ],
 "metadata": {
  "kernelspec": {
   "display_name": "Python 3 (ipykernel)",
   "language": "python",
   "name": "python3"
  },
  "language_info": {
   "codemirror_mode": {
    "name": "ipython",
    "version": 3
   },
   "file_extension": ".py",
   "mimetype": "text/x-python",
   "name": "python",
   "nbconvert_exporter": "python",
   "pygments_lexer": "ipython3",
   "version": "3.9.6"
  }
 },
 "nbformat": 4,
 "nbformat_minor": 2
}
